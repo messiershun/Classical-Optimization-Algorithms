{
 "cells": [
  {
   "cell_type": "code",
   "execution_count": 1,
   "id": "96cd4d41",
   "metadata": {},
   "outputs": [],
   "source": [
    "import numpy as np\n",
    "import random\n",
    "import matplotlib.pyplot as plt\n",
    "import math"
   ]
  },
  {
   "cell_type": "code",
   "execution_count": 2,
   "id": "39a6b025",
   "metadata": {},
   "outputs": [],
   "source": [
    "def f(x):#评估函数的工具函数\n",
    "    if (x==np.zeros((1,4))).all():\n",
    "        return 4\n",
    "    elif (x==np.ones((1,4))).all():\n",
    "        return 0\n",
    "    else:\n",
    "        return np.sum(x==np.ones((1,4)))\n",
    "    \n",
    "def evaluate(x):#评估适应度函数，输入为一个长度100的0,1序列\n",
    "    total_r=0\n",
    "    for i in range(25):\n",
    "        r=f(x[i*4:(i+1)*4])\n",
    "        total_r+=r\n",
    "    return total_r"
   ]
  },
  {
   "cell_type": "code",
   "execution_count": 3,
   "id": "19e377a8",
   "metadata": {},
   "outputs": [],
   "source": [
    "def inits(n):#初始化种群和种群适应度，n为种群大小\n",
    "    v=[]\n",
    "    s=np.random.randint(0,2,n*100)\n",
    "    s=s.reshape((n,100))\n",
    "    for i in range(n):\n",
    "        v.append(evaluate(s[i]))\n",
    "    v=np.array(v)\n",
    "    return s,v"
   ]
  },
  {
   "cell_type": "code",
   "execution_count": 5,
   "id": "c569a599",
   "metadata": {},
   "outputs": [],
   "source": [
    "class GA:\n",
    "    '''此类为遗传算法类，其中选择变异交叉等函数都直接在self.s上改动，无返回值'''\n",
    "    def __init__(self,s0,v0,n,cp,mp):\n",
    "        '''s0初始种群，v0初始种群适应度，n种群大小，cp交叉概率，mp变异概率'''\n",
    "        self.s=s0\n",
    "        self.v=v0\n",
    "        self.n=n\n",
    "        self.cp=cp\n",
    "        self.mp=mp\n",
    "        self.max=0\n",
    "    \n",
    "    def choose(self,mode=True,q=0.5):#选择\n",
    "        '''mode为True是按比例的适应度分配，False是基于排序的适应度分配,q为当mode为False时第一位概率'''\n",
    "        p=np.zeros(self.n)\n",
    "        sum_p=np.sum(self.v)\n",
    "        if mode:\n",
    "            self.v=self.v/sum_p\n",
    "        else:\n",
    "            p1=q\n",
    "            for _ in range(self.n):\n",
    "                num=np.argmax(self.v)\n",
    "                p[num]=p1\n",
    "                self.v[num]=0\n",
    "                p1=p1*(1-q)\n",
    "            self.v=p\n",
    "            self.v[np.argmin(self.v)]+=1-np.sum(self.v)\n",
    "        #print(self.v)\n",
    "        #此处self.v被临时变成选择概率，爱惜内存空间人人有责\n",
    "        list_s=np.random.choice(self.n,self.n,p=self.v)\n",
    "        s1=np.zeros((self.n,100))\n",
    "        for i in range(self.n):\n",
    "            s1[i]=self.s[list_s[i]].copy()\n",
    "        self.s=s1\n",
    "        return\n",
    "        \n",
    "    def cross(self):#交叉\n",
    "        for i in range(int(self.n/2)):\n",
    "            i1=i*2\n",
    "            if random.random()>self.cp:\n",
    "                continue\n",
    "            else:\n",
    "                '''num1=np.random.randint(0,101,2)\n",
    "                minnum=np.min(num1)\n",
    "                maxnum=np.max(num1)\n",
    "                tem=self.s[i1,minnum:maxnum].copy()\n",
    "                self.s[i1,minnum:maxnum]=self.s[i1+1,minnum:maxnum].copy()\n",
    "                self.s[i1+1,minnum:maxnum]=tem'''#两切点交叉\n",
    "                '''num_c=np.random.randint(0,2,100)\n",
    "                for j in range(100):\n",
    "                    if num_c[j]==1:\n",
    "                        tem=self.s[i1,j]\n",
    "                        self.s[i1,j]=self.s[i1+1,j]\n",
    "                        self.s[i1+1,j]=tem'''#均匀交叉\n",
    "                num_c=np.random.randint(0,2,25)\n",
    "                for j in range(25):\n",
    "                    if num_c[j]==1:\n",
    "                        tem=self.s[i1,j*4:(j+1)*4].copy()\n",
    "                        self.s[i1,j*4:(j+1)*4]=self.s[i1+1,j*4:(j+1)*4].copy()\n",
    "                        self.s[i1+1,j*4:(j+1)*4]=tem#按片段交叉\n",
    "        return\n",
    "    \n",
    "    def mutations(self):#变异\n",
    "        for i in range(self.n):\n",
    "            m=np.random.choice([0,1],100,p=np.array([1-self.mp,self.mp]))\n",
    "            self.s[i]=np.abs(self.s[i]-m)\n",
    "        return\n",
    "    \n",
    "    def train(self):#训练，返回全局最大值和它的上升过程数列\n",
    "        sequence=0\n",
    "        r=[]\n",
    "        n=0\n",
    "        while self.max<95 and n<150:\n",
    "            self.choose(False)\n",
    "            self.cross()\n",
    "            self.mutations()\n",
    "            for i in range(self.n):\n",
    "                self.v[i]=evaluate(self.s[i])\n",
    "            tem=self.max\n",
    "            self.max=max(self.max,np.max(self.v))\n",
    "            if self.max!=tem:\n",
    "                sequence=self.s[np.argmax(self.v)].copy()\n",
    "            r.append(self.max)\n",
    "            n+=1\n",
    "            \n",
    "            #print(self.v)\n",
    "        return self.max,r,sequence"
   ]
  },
  {
   "cell_type": "code",
   "execution_count": 6,
   "id": "ae4b7b73",
   "metadata": {},
   "outputs": [],
   "source": [
    "re=[]\n",
    "for i in range(10):\n",
    "    s0,v0=inits(200)\n",
    "    agent=GA(s0,v0,200,0.5,0.05)\n",
    "    m,r,s=agent.train()\n",
    "    re.append((m,r,s))"
   ]
  },
  {
   "cell_type": "code",
   "execution_count": 7,
   "id": "2bbccddb",
   "metadata": {},
   "outputs": [
    {
     "name": "stdout",
     "output_type": "stream",
     "text": [
      "92.0\n",
      "87.0\n",
      "89.0\n",
      "89.0\n",
      "85.0\n",
      "92.0\n",
      "89.0\n",
      "89.0\n",
      "89.0\n",
      "87.0\n"
     ]
    }
   ],
   "source": [
    "for i in range(10):\n",
    "    print(re[i][0])"
   ]
  },
  {
   "cell_type": "code",
   "execution_count": 8,
   "id": "270fce06",
   "metadata": {},
   "outputs": [],
   "source": [
    "m=re[0][0]\n",
    "r=re[0][1]\n",
    "s=re[0][2]"
   ]
  },
  {
   "cell_type": "code",
   "execution_count": 9,
   "id": "533d2756",
   "metadata": {},
   "outputs": [
    {
     "name": "stdout",
     "output_type": "stream",
     "text": [
      "92.0\n",
      "[0. 0. 0. 0. 0. 1. 1. 1. 0. 0. 0. 0. 0. 0. 0. 0. 1. 0. 1. 1. 0. 0. 0. 0.\n",
      " 0. 0. 0. 0. 0. 0. 0. 0. 1. 0. 1. 1. 0. 0. 0. 0. 1. 0. 1. 1. 0. 0. 0. 0.\n",
      " 0. 0. 0. 0. 0. 0. 0. 0. 0. 0. 0. 0. 1. 1. 0. 1. 0. 0. 0. 0. 0. 0. 0. 0.\n",
      " 1. 0. 1. 1. 0. 0. 0. 0. 0. 1. 1. 1. 0. 0. 0. 0. 0. 0. 0. 0. 1. 0. 1. 1.\n",
      " 0. 0. 0. 0.]\n"
     ]
    },
    {
     "data": {
      "image/png": "[encoded data removed]",
      "text/plain": [
       "<Figure size 432x288 with 1 Axes>"
      ]
     },
     "metadata": {
      "needs_background": "light"
     },
     "output_type": "display_data"
    }
   ],
   "source": [
    "print(m)\n",
    "print(s)\n",
    "fig, ax=plt.subplots(1, 1)\n",
    "ax.clear()\n",
    "ax.plot(r)\n",
    "fig.canvas.draw()"
   ]
  },
  {
   "cell_type": "code",
   "execution_count": 6,
   "id": "f026e5d0",
   "metadata": {},
   "outputs": [
    {
     "data": {
      "text/plain": [
       "array([99, 99, 99, 99, 99, 99])"
      ]
     },
     "execution_count": 6,
     "metadata": {},
     "output_type": "execute_result"
    }
   ],
   "source": [
    "np.random.randint(99,100,6)"
   ]
  },
  {
   "cell_type": "code",
   "execution_count": null,
   "id": "9379c6db",
   "metadata": {},
   "outputs": [],
   "source": []
  }
 ],
 "metadata": {
  "kernelspec": {
   "display_name": "Python 3 (ipykernel)",
   "language": "python",
   "name": "python3"
  },
  "language_info": {
   "codemirror_mode": {
    "name": "ipython",
    "version": 3
   },
   "file_extension": ".py",
   "mimetype": "text/x-python",
   "name": "python",
   "nbconvert_exporter": "python",
   "pygments_lexer": "ipython3",
   "version": "3.8.13"
  }
 },
 "nbformat": 4,
 "nbformat_minor": 5
}

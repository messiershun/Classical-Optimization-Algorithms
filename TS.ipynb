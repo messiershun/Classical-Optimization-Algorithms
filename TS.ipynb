{
 "cells": [
  {
   "cell_type": "code",
   "execution_count": 1,
   "id": "33604143",
   "metadata": {},
   "outputs": [],
   "source": [
    "import numpy as np\n",
    "import math\n",
    "import matplotlib.pyplot as plt\n",
    "import time\n",
    "import random\n",
    "\n",
    "maxx=10000000"
   ]
  },
  {
   "cell_type": "code",
   "execution_count": 2,
   "id": "c1bf53e6",
   "metadata": {},
   "outputs": [
    {
     "name": "stdout",
     "output_type": "stream",
     "text": [
      "0.08593124411842491\n"
     ]
    }
   ],
   "source": [
    "avg1=np.array([43019,41585,39880,41646,38679,48062,41005,42348,41579,47400])\n",
    "avg11=avg1.mean()\n",
    "avg2=np.array([37659,39394,38691,44686,41277,45334,42644,45078,45678,42302])\n",
    "avg21=avg2.mean()\n",
    "e=avg11-avg21\n",
    "a=avg1-avg21\n",
    "a=np.sum(a*a)\n",
    "e=e/math.sqrt(a)*math.sqrt(10)\n",
    "print(e)"
   ]
  },
  {
   "cell_type": "code",
   "execution_count": 3,
   "id": "f7505060",
   "metadata": {},
   "outputs": [
    {
     "data": {
      "text/plain": [
       "array([75, 40, 31, 62, 54, 14, 89, 69, 34,  7, 70, 63, 29, 98, 30, 61, 86,\n",
       "       20, 90,  3,  0, 47, 80, 52, 99,  4,  8, 65, 77, 46, 13, 10, 48, 50,\n",
       "        9, 59, 22, 60, 85, 25, 81, 91, 56, 94,  5, 87, 11,  2, 39, 66, 43,\n",
       "       16, 28, 53, 84, 57, 18, 37, 95, 19, 27, 88, 24, 36, 33, 78, 97, 93,\n",
       "       21,  6, 23, 73, 32, 96, 44, 82, 51,  1, 38, 76, 17, 74, 67, 12, 83,\n",
       "       45, 42, 41, 55, 79, 92, 58, 71, 26, 68, 64, 35, 49, 15, 72])"
      ]
     },
     "execution_count": 3,
     "metadata": {},
     "output_type": "execute_result"
    }
   ],
   "source": [
    "s=list(range(100))\n",
    "random.shuffle(s)\n",
    "np.array(s)\n"
   ]
  },
  {
   "cell_type": "code",
   "execution_count": 4,
   "id": "c90e4f31",
   "metadata": {},
   "outputs": [],
   "source": [
    "class Chart:\n",
    "    def __init__(self):\n",
    "        self.fig, self.ax = plt.subplots(1, 1)\n",
    "    \n",
    "    def plot(self, episode_rewards, x, y):\n",
    "        self.ax.clear()\n",
    "        self.ax.plot(episode_rewards)\n",
    "        self.ax.set_xlabel(x)\n",
    "        self.ax.set_ylabel(y)\n",
    "        self.fig.canvas.draw()"
   ]
  },
  {
   "cell_type": "code",
   "execution_count": 5,
   "id": "54a59b54",
   "metadata": {},
   "outputs": [],
   "source": [
    "def read_data(filename):\n",
    "    with open(filename, 'r') as f:\n",
    "        data = f.read().split('\\n')\n",
    "    data=data[6:-2]\n",
    "    data = [t.split(' ') for t in data]\n",
    "    data = [[int(i) for i in t] for t in data]\n",
    "    return data\n",
    "        \n",
    "def TSPmatrix(filename):\n",
    "    data=read_data(filename)\n",
    "    l=len(data)\n",
    "    Tm=np.zeros((l,l))\n",
    "    fpm=np.zeros((l,l))\n",
    "    for i in range(l):\n",
    "        for j in range(i,l):\n",
    "            Tm[i,j]=math.sqrt((data[i][1]-data[j][1])**2+(data[i][2]-data[j][2])**2)\n",
    "            Tm[j,i]=Tm[i,j]\n",
    "    return Tm,fpm,l"
   ]
  },
  {
   "cell_type": "markdown",
   "id": "2347ec38",
   "metadata": {},
   "source": [
    "# 旅行商禁忌搜索类"
   ]
  },
  {
   "cell_type": "code",
   "execution_count": 6,
   "id": "0f678765",
   "metadata": {},
   "outputs": [],
   "source": [
    "class TSTSP:\n",
    "    def __init__(self,filename,n,Tlen,s0=False,fp=0):\n",
    "        self.Tm,self.fpm,self.city=TSPmatrix(filename)#距离矩阵 频率矩阵 城市数量\n",
    "        self.Tlen=Tlen\n",
    "        self.T=[]\n",
    "        self.n=n\n",
    "        self.fp=fp\n",
    "        self.minn=maxx\n",
    "        if s0:\n",
    "            self.s0=s0\n",
    "        else:\n",
    "            self.s0=list(range(self.city))\n",
    "    \n",
    "    def compute(self,s):#计算回报\n",
    "        result=0\n",
    "        for i in range(self.city):\n",
    "            result=result+self.Tm[s[i-1],s[i]]\n",
    "        return result\n",
    "    \n",
    "    def Searchfp(self,s,s1):\n",
    "        return self.fp*self.fpm[s,s1]\n",
    "    \n",
    "    def opt2(self,s):#邻域搜索\n",
    "        action=[]\n",
    "        tem=[]\n",
    "        minn1=maxx\n",
    "        v=self.compute(s)\n",
    "        for i in range(self.city):\n",
    "            for j in range(i+1,self.city):\n",
    "                \n",
    "                v1=v-self.Tm[s[i-1],s[i]]-self.Tm[s[j],s[(j+1)%self.city]]+ \\\n",
    "                self.Tm[s[i-1],s[j]] + self.Tm[s[i],s[(j+1)%self.city]]\n",
    "                if (j-i)!=1 and not (i==0 and j==self.city-1):\n",
    "                    v1=v1-self.Tm[s[i],s[(j+1)%self.city]]-self.Tm[s[j-1],s[j]]+ \\\n",
    "                    self.Tm[s[j],s[i+1]]+self.Tm[s[j-1],s[i]]\n",
    "                #print(i,j)\n",
    "                v1+=self.Searchfp(s[i],s[j])\n",
    "                if (((s[i],s[j]) in self.T) or ((s[j],s[i]) in self.T)) and v1>=self.minn:\n",
    "                    continue\n",
    "                if v1<minn1:\n",
    "                    action=[s[i],s[j],v1]\n",
    "                    tem=[i,j]\n",
    "                    minn1=v1\n",
    "        s[tem[0]],s[tem[1]]=s[tem[1]],s[tem[0]]\n",
    "        return s,action\n",
    "    \n",
    "    def train(self,code=False):\n",
    "        #t=[]\n",
    "        result=[]\n",
    "        s=self.s0\n",
    "        for i in range(self.n):\n",
    "            s,action=self.opt2(s)\n",
    "            #print(action)\n",
    "            self.fpm[action[0],action[1]]+=1\n",
    "            self.fpm[action[1],action[0]]+=1\n",
    "            if action[2]<self.minn:\n",
    "                self.minn=action[2]\n",
    "            if len(self.T)<self.Tlen:\n",
    "                self.T.append((action[0],action[1]))\n",
    "            else:\n",
    "                self.T[i%self.Tlen]=(action[0],action[1])\n",
    "            if code:\n",
    "                result.append(action[2])\n",
    "                #t.append(s.copy())\n",
    "        return result,s"
   ]
  },
  {
   "cell_type": "code",
   "execution_count": 7,
   "id": "4f13adc7",
   "metadata": {},
   "outputs": [
    {
     "data": {
      "image/png": "[encoded data removed]",
      "text/plain": [
       "<Figure size 432x288 with 1 Axes>"
      ]
     },
     "metadata": {
      "needs_background": "light"
     },
     "output_type": "display_data"
    }
   ],
   "source": [
    "s=list(range(100))\n",
    "random.shuffle(s)\n",
    "np.array(s)\n",
    "s1=s.copy()\n",
    "a=TSTSP('kroA100.tsp',1000,100,s0=s,fp=2000)#fp我也不知道怎么设置，从体量来看，这个题目目标值大约在100000到200000，所以1%为1000\n",
    "ac,s=a.train(True)\n",
    "chart=Chart()\n",
    "chart.plot(ac,'iteration','episode reward')"
   ]
  },
  {
   "cell_type": "code",
   "execution_count": 8,
   "id": "74478e6b",
   "metadata": {},
   "outputs": [
    {
     "name": "stdout",
     "output_type": "stream",
     "text": [
      "[90 97 46 16 31 10 20 14 59 26 34 61 22 76 54 82 56  9 23 93 52 87 15 69\n",
      " 18 96 41 91 57 49 24  8 85  2 29 11 19 50 63 39 53 94 12 75 32 95 51 70\n",
      " 42 13 40 99 81  1 38 84 43 67 48  5 21 37 17 78 89 83 73 35 71 58 98  7\n",
      " 79 30 88 66 68 72 80 60 86 33 28  4 77 36 47 45  6 64 25  3 65 74 55 62\n",
      "  0 92 27 44]\n",
      "52841.65049417752\n",
      "45470.00440131988\n"
     ]
    }
   ],
   "source": [
    "print(np.array(s))\n",
    "print(a.compute(s))\n",
    "print(a.minn)"
   ]
  },
  {
   "cell_type": "code",
   "execution_count": 10,
   "id": "aa85b599",
   "metadata": {},
   "outputs": [
    {
     "name": "stdout",
     "output_type": "stream",
     "text": [
      "消耗时间为: 70.67784547805786 s\n"
     ]
    }
   ],
   "source": [
    "#不使用频率表\n",
    "t_start=time.time()\n",
    "a=TSTSP('kroA100.tsp',1000,100,s0=s1,fp=0)#fp我也不知道怎么设置，从体量来看，这个题目目标值大约在100000到200000，所以1%为1000\n",
    "ac,s=a.train(True)\n",
    "t_end=time.time()\n",
    "t=t_end-t_start\n",
    "print('消耗时间为:',t,'s')"
   ]
  },
  {
   "cell_type": "markdown",
   "id": "b3172c77",
   "metadata": {},
   "source": [
    "输出某参数下结果随迭代次数变化"
   ]
  },
  {
   "cell_type": "code",
   "execution_count": 11,
   "id": "b506e457",
   "metadata": {},
   "outputs": [
    {
     "data": {
      "image/png": "[encoded data removed]",
      "text/plain": [
       "<Figure size 432x288 with 1 Axes>"
      ]
     },
     "metadata": {
      "needs_background": "light"
     },
     "output_type": "display_data"
    }
   ],
   "source": [
    "chart=Chart()\n",
    "chart.plot(ac,'iteration','episode reward')"
   ]
  },
  {
   "cell_type": "code",
   "execution_count": 12,
   "id": "90cd2cec",
   "metadata": {},
   "outputs": [
    {
     "name": "stdout",
     "output_type": "stream",
     "text": [
      "[45 42 13 99 70 40 51 67 66 88 30  7 41 74 89 18 78 87 21 23 10 76 85 34\n",
      " 26 19 57 91  0  9 83 96 79 55 64  3 25 65 69 15 93 17 98 37 35 58 71 60\n",
      " 63 39 72 68 53  1 43 49 81 77 38 84 27 92 46 14 44  8 11 82 33 28 29 36\n",
      " 75 32 12 94 54 61 59 90 16 31 22 97 62  5 73 20 48 52  4 95 47 80 24 50\n",
      " 86  6 56  2]\n",
      "48935.08604826447\n",
      "43613.28718587395\n"
     ]
    }
   ],
   "source": [
    "print(np.array(s))\n",
    "print(a.compute(s))\n",
    "print(a.minn)"
   ]
  },
  {
   "cell_type": "markdown",
   "id": "5c802aaf",
   "metadata": {},
   "source": [
    "## 在迭代次数300次下，结果随禁忌表长度变化"
   ]
  },
  {
   "cell_type": "code",
   "execution_count": 11,
   "id": "fb5d4fdb",
   "metadata": {},
   "outputs": [],
   "source": [
    "r=[]\n",
    "for i in range(1,150):\n",
    "    a=TSTSP('kroA100.tsp',300,i,fp=1000)\n",
    "    ac,s=a.train(True)\n",
    "    r.append(ac[-1])"
   ]
  },
  {
   "cell_type": "code",
   "execution_count": 12,
   "id": "7d650c23",
   "metadata": {},
   "outputs": [
    {
     "data": {
      "image/png": "[encoded data removed]",
      "text/plain": [
       "<Figure size 432x288 with 1 Axes>"
      ]
     },
     "metadata": {
      "needs_background": "light"
     },
     "output_type": "display_data"
    }
   ],
   "source": [
    "chart=Chart()\n",
    "chart.plot(r,'Tlen','episode reward')\n",
    "#可以看出禁忌表长度并不是越大越好，在保证小于迭代次数的条件下，\n",
    "#设置为1/3到7/15迭代次数会取得不错的效果（平稳段），在4/15迭代次数时会取得全局极小点（可能和初始点选取和频率表阿尔法值有关）"
   ]
  },
  {
   "cell_type": "code",
   "execution_count": 24,
   "id": "14e4dd74",
   "metadata": {},
   "outputs": [
    {
     "name": "stdout",
     "output_type": "stream",
     "text": [
      "41245.11466482204\n"
     ]
    }
   ],
   "source": [
    "s=[61,69,64,40,42,56,97,75,90,10,11,32,91,45,15,17,59,36,99,38,24,18,94,16,22,70,92,93,51,87,57,20,86,35,27,83,30,96,48,100,41,71,14,85,68,39,5,37,33,76,13,78,52,3,43,7,9,60,23,98,47,49,19,4,65,66,26,54,2,67,1,63,21,74,72,84,79,88,53,6,28,73,44,82,95,50,81,25,89,31,80,8,58,34,29,46,55,12,62,77]\n",
    "a=TSTSP('kroA100.tsp',200,80,fp=0)\n",
    "s=[i-1 for i in s]\n",
    "print(a.compute(s))"
   ]
  },
  {
   "cell_type": "code",
   "execution_count": 5,
   "id": "412bfebf",
   "metadata": {},
   "outputs": [
    {
     "name": "stdout",
     "output_type": "stream",
     "text": [
      "23360.50968373368\n"
     ]
    }
   ],
   "source": [
    "s=[92,63,6,49,90,10,84,72,21,74,59,17,15,11,32,45,23,98,91,47,93,28,67,58,61,25,81,69,73,50,44,2,54,40,64,68,85,39,30,96,78,52,5,37,33,76,13,95,82,48,100,41,71,14,3,43,46,29,34,83,55,27,35,86,20,12,7,9,87,51,57,62,60,77,1,8,42,89,31,80,56,97,75,19,53,79,18,24,38,36,99,94,88,16,22,70,66,26,65,4,92]\n",
    "a=TSTSP('kroA100.tsp',200,80,fp=0)\n",
    "s=[i-1 for i in s]\n",
    "print(a.compute(s))"
   ]
  },
  {
   "cell_type": "code",
   "execution_count": null,
   "id": "f7632b78",
   "metadata": {},
   "outputs": [],
   "source": []
  },
  {
   "cell_type": "code",
   "execution_count": 7,
   "id": "4017d80b",
   "metadata": {},
   "outputs": [
    {
     "name": "stdout",
     "output_type": "stream",
     "text": [
      "循环次数 0 消耗时间为: 14.114550352096558 s\n",
      "循环次数 1 消耗时间为: 14.123862504959106 s\n",
      "循环次数 2 消耗时间为: 13.974427938461304 s\n",
      "循环次数 3 消耗时间为: 14.0742506980896 s\n",
      "循环次数 4 消耗时间为: 14.389610052108765 s\n",
      "循环次数 5 消耗时间为: 13.926072359085083 s\n",
      "循环次数 6 消耗时间为: 14.154562711715698 s\n",
      "循环次数 7 消耗时间为: 14.03341031074524 s\n",
      "循环次数 8 消耗时间为: 14.001611232757568 s\n",
      "循环次数 9 消耗时间为: 14.439754247665405 s\n",
      "循环次数 10 消耗时间为: 14.193278312683105 s\n",
      "循环次数 11 消耗时间为: 14.06968355178833 s\n",
      "循环次数 12 消耗时间为: 14.070913314819336 s\n",
      "循环次数 13 消耗时间为: 14.445085525512695 s\n",
      "循环次数 14 消耗时间为: 14.288939476013184 s\n",
      "循环次数 15 消耗时间为: 14.146945714950562 s\n",
      "循环次数 16 消耗时间为: 14.422068119049072 s\n",
      "循环次数 17 消耗时间为: 15.093415975570679 s\n",
      "循环次数 18 消耗时间为: 14.738795757293701 s\n",
      "循环次数 19 消耗时间为: 14.3712317943573 s\n",
      "循环次数 20 消耗时间为: 14.268358945846558 s\n",
      "循环次数 21 消耗时间为: 14.242873191833496 s\n",
      "循环次数 22 消耗时间为: 14.190942764282227 s\n",
      "循环次数 23 消耗时间为: 14.544574975967407 s\n",
      "循环次数 24 消耗时间为: 14.15265703201294 s\n",
      "循环次数 25 消耗时间为: 14.208523988723755 s\n",
      "循环次数 26 消耗时间为: 14.486984252929688 s\n",
      "循环次数 27 消耗时间为: 14.619399785995483 s\n",
      "循环次数 28 消耗时间为: 15.508872270584106 s\n",
      "循环次数 29 消耗时间为: 14.339791059494019 s\n",
      "t检测值为 29.84185142075182\n"
     ]
    }
   ],
   "source": [
    "#使用频率表\n",
    "r=[]\n",
    "n=30\n",
    "for i in range(n):\n",
    "    s=list(range(100))\n",
    "    random.shuffle(s)\n",
    "    np.array(s)\n",
    "\n",
    "    t_start=time.time()\n",
    "    a=TSTSP('kroA100.tsp',400,80,s0=s,fp=1000)#fp我也不知道怎么设置，从体量来看，这个题目目标值大约在100000到200000，所以1%为1000\n",
    "    ac,s=a.train(True)\n",
    "    r.append(ac[-1])\n",
    "    t_end=time.time()\n",
    "    t=t_end-t_start\n",
    "    print('循环次数',i,'消耗时间为:',t,'s')\n",
    "r=np.array(r)\n",
    "e=r.mean()\n",
    "r=r-e\n",
    "r=r*r\n",
    "s=math.sqrt(r.sum()/n)\n",
    "ttest=(e-23360)/s*math.sqrt(n)\n",
    "print('t检测值为',ttest)"
   ]
  }
 ],
 "metadata": {
  "kernelspec": {
   "display_name": "Python 3 (ipykernel)",
   "language": "python",
   "name": "python3"
  },
  "language_info": {
   "codemirror_mode": {
    "name": "ipython",
    "version": 3
   },
   "file_extension": ".py",
   "mimetype": "text/x-python",
   "name": "python",
   "nbconvert_exporter": "python",
   "pygments_lexer": "ipython3",
   "version": "3.8.13"
  }
 },
 "nbformat": 4,
 "nbformat_minor": 5
}
